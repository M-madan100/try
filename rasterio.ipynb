{
 "cells": [
  {
   "cell_type": "code",
   "execution_count": 33,
   "id": "860bbb8e-0e74-4e39-af4c-9f2b1fb98769",
   "metadata": {},
   "outputs": [],
   "source": [
    "import os\n",
    "import datetime\n",
    "import json\n",
    "import rasterio"
   ]
  },
  {
   "cell_type": "code",
   "execution_count": 34,
   "id": "8e3b341a",
   "metadata": {},
   "outputs": [],
   "source": [
    "from pathlib import Path"
   ]
  },
  {
   "cell_type": "code",
   "execution_count": 35,
   "id": "80c0d4ef",
   "metadata": {},
   "outputs": [],
   "source": [
    "files = Path('tif').stem\n",
    "indexEnd = 3"
   ]
  },
  {
   "cell_type": "code",
   "execution_count": 36,
   "id": "319bacbc",
   "metadata": {},
   "outputs": [],
   "source": [
    "list = os.listdir('tif')\n",
    "cropList = os.listdir('tif/AnnualCrop')\n",
    "forestList = os.listdir('tif/Forest')\n",
    "vegetationList = os.listdir('tif/HerbaceousVegetation')\n",
    "highwayList = os.listdir('tif/Highway')\n",
    "industrialList = os.listdir('tif/Industrial')\n",
    "pastureList = os.listdir('tif/Pasture')\n",
    "permanentcropList = os.listdir('tif/PermanentCrop')\n",
    "residentalList = os.listdir('tif/Residential')\n",
    "riverList = os.listdir('tif/River')\n",
    "lakeList = os.listdir('tif/SeaLake')"
   ]
  },
  {
   "cell_type": "code",
   "execution_count": 37,
   "id": "3b31f9b5",
   "metadata": {
    "scrolled": true
   },
   "outputs": [
    {
     "name": "stdout",
     "output_type": "stream",
     "text": [
      "['.ipynb_checkpoints', 'AnnualCrop', 'Forest', 'HerbaceousVegetation', 'Highway', 'Industrial', 'Pasture', 'PermanentCrop', 'Residential', 'River', 'SeaLake', 'Untitled.ipynb']\n",
      "['.ipynb_checkpoints', 'AnnualCrop', 'Forest', 'HerbaceousVegetation', 'Highway', 'Industrial', 'Pasture', 'PermanentCrop', 'Residential', 'River', 'SeaLake', 'Untitled.ipynb']\n"
     ]
    }
   ],
   "source": [
    "print(list)"
   ]
  },
  {
   "cell_type": "code",
   "execution_count": 38,
   "id": "fde72ca4",
   "metadata": {},
   "outputs": [],
   "source": [
    "date = datetime.datetime.now()"
   ]
  },
  {
   "cell_type": "code",
   "execution_count": 39,
   "id": "f3f84340",
   "metadata": {},
   "outputs": [
    {
     "name": "stdout",
     "output_type": "stream",
     "text": [
      "2022-05-08 23:20:19.739629\n",
      "2022-05-08 23:20:19.739629\n"
     ]
    }
   ],
   "source": [
    "print(date)"
   ]
  },
  {
   "cell_type": "code",
   "execution_count": 40,
   "id": "dd024513",
   "metadata": {},
   "outputs": [],
   "source": [
    "date_year = date.year"
   ]
  },
  {
   "cell_type": "code",
   "execution_count": 41,
   "id": "cf5dbb26",
   "metadata": {},
   "outputs": [
    {
     "name": "stdout",
     "output_type": "stream",
     "text": [
      "2022\n",
      "2022\n"
     ]
    }
   ],
   "source": [
    "\n",
    "print(date_year)"
   ]
  },
  {
   "cell_type": "code",
   "execution_count": 42,
   "id": "e0da0644",
   "metadata": {
    "scrolled": true
   },
   "outputs": [
    {
     "name": "stdout",
     "output_type": "stream",
     "text": [
      "3000\n",
      "['.ipynb_checkpoints', 'AnnualCrop', 'Forest', 'HerbaceousVegetation', 'Highway', 'Industrial', 'Pasture', 'PermanentCrop', 'Residential', 'River', 'SeaLake', 'Untitled.ipynb']\n",
      "3000\n",
      "['.ipynb_checkpoints', 'AnnualCrop', 'Forest', 'HerbaceousVegetation', 'Highway', 'Industrial', 'Pasture', 'PermanentCrop', 'Residential', 'River', 'SeaLake', 'Untitled.ipynb']\n"
     ]
    }
   ],
   "source": [
    "count=len(cropList)\n",
    "print(count)\n",
    "\n",
    "print(list)"
   ]
  },
  {
   "cell_type": "code",
   "execution_count": 43,
   "id": "b26cf227",
   "metadata": {},
   "outputs": [
    {
     "name": "stdout",
     "output_type": "stream",
     "text": [
      "AnnualCrop_1.tif\n",
      "AnnualCrop_10.tif\n",
      "AnnualCrop_1.tif\n",
      "AnnualCrop_10.tif\n",
      "AnnualCrop_100.tif\n",
      "[<open DatasetReader name='tif/AnnualCrop/AnnualCrop_1.tif' mode='r'>, <open DatasetReader name='tif/AnnualCrop/AnnualCrop_10.tif' mode='r'>, <open DatasetReader name='tif/AnnualCrop/AnnualCrop_100.tif' mode='r'>]\n",
      "AnnualCrop_100.tif\n",
      "[<open DatasetReader name='tif/AnnualCrop/AnnualCrop_1.tif' mode='r'>, <open DatasetReader name='tif/AnnualCrop/AnnualCrop_10.tif' mode='r'>, <open DatasetReader name='tif/AnnualCrop/AnnualCrop_100.tif' mode='r'>]\n"
     ]
    }
   ],
   "source": [
    "annualCrop = []\n",
    "cropName = []\n",
    "for x in cropList[0:indexEnd]:\n",
    "     print(x)\n",
    "     value = rasterio.open('tif/AnnualCrop/' + x)\n",
    "     cropName.append(x)   \n",
    "     annualCrop.append(value) \n",
    "print(annualCrop)\n",
    "    \n",
    "forest = []\n",
    "forestName = []\n",
    "for x in forestList[0:indexEnd]:  \n",
    "    value = rasterio.open('tif/Forest/' + x)\n",
    "    forestName.append(x)   \n",
    "    forest.append(value)\n",
    "\n",
    "vegetation = []\n",
    "vegetationName = []\n",
    "for x in vegetationList[0:indexEnd]:  \n",
    "    value = rasterio.open('tif/HerbaceousVegetation/' + x)\n",
    "    vegetationName.append(x)   \n",
    "    vegetation.append(value)\n",
    "\n",
    "industrial = []\n",
    "industrialName = []\n",
    "for x in industrialList[0:indexEnd]:  \n",
    "    value = rasterio.open('tif/Industrial/' + x)\n",
    "    industrialName.append(x)   \n",
    "    industrial.append(value)    \n",
    "    \n",
    "pasture = []\n",
    "pastureName = []\n",
    "for x in pastureList[0:indexEnd]:  \n",
    "    value = rasterio.open('tif/Pasture/' + x)\n",
    "    pastureName.append(x)   \n",
    "    pasture.append(value)\n",
    "    \n",
    "permanentCrop = []\n",
    "permanentCropName = []\n",
    "for x in permanentcropList[0:indexEnd]:  \n",
    "    value = rasterio.open('tif/PermanentCrop/' + x)\n",
    "    permanentCropName.append(x)   \n",
    "    permanentCrop.append(value)\n",
    "\n",
    "residential = []\n",
    "residentialName = []\n",
    "for x in residentalList[0:indexEnd]:  \n",
    "    value = rasterio.open('tif/Residential/' + x)\n",
    "    residentialName.append(x)   \n",
    "    residential.append(value)\n",
    "\n",
    "river = []\n",
    "riverName = []\n",
    "for x in riverList[0:indexEnd]:  \n",
    "    value = rasterio.open('tif/River/' + x)\n",
    "    riverName.append(x)   \n",
    "    river.append(value)\n",
    "\n",
    "lake = []\n",
    "lakeName = []\n",
    "for x in lakeList[0:indexEnd]:  \n",
    "    value = rasterio.open('tif/SeaLake/' + x)\n",
    "    lakeName.append(x)   \n",
    "    lake.append(value)\n",
    " \n",
    "highway = []\n",
    "highwayName = []\n",
    "for x in highwayList[0:indexEnd]:  \n",
    "    value = rasterio.open('tif/Highway/' + x)\n",
    "    highwayName.append(x)   \n",
    "    highway.append(value)\n"
   ]
  },
  {
   "cell_type": "code",
   "execution_count": 44,
   "id": "e866bbcb",
   "metadata": {},
   "outputs": [],
   "source": [
    "annual_bound = []\n",
    "for x in annualCrop:     \n",
    "     value = x.bounds\n",
    "     annual_bound.append(value)  \n",
    "\n",
    "forest_bound = []\n",
    "for x in forest:     \n",
    "     value = x.bounds\n",
    "     forest_bound.append(value)\n",
    "\n",
    "vegetation_bound = []\n",
    "for x in vegetation:     \n",
    "     value = x.bounds\n",
    "     vegetation_bound.append(value) \n",
    "\n",
    "industrial_bound = []\n",
    "for x in industrial:     \n",
    "     value = x.bounds\n",
    "     industrial_bound.append(value)\n",
    "\n",
    "pasture_bound = []\n",
    "for x in pasture:     \n",
    "     value = x.bounds\n",
    "     pasture_bound.append(value)\n",
    " \n",
    "permanentCrop_bound = []\n",
    "for x in permanentCrop:     \n",
    "     value = x.bounds\n",
    "     permanentCrop_bound.append(value)\n",
    "\n",
    "residential_bound = []\n",
    "for x in residential:     \n",
    "     value = x.bounds\n",
    "     residential_bound.append(value)\n",
    " \n",
    "river_bound = []\n",
    "for x in river:     \n",
    "     value = x.bounds\n",
    "     river_bound.append(value)\n",
    "\n",
    "seaLake_bound = []\n",
    "for x in lake:     \n",
    "     value = x.bounds\n",
    "     seaLake_bound.append(value)\n",
    " \n",
    "highway_bound = []\n",
    "for x in highway:     \n",
    "     value = x.bounds\n",
    "     highway_bound.append(value)\n",
    "\n",
    "\n",
    "    \n",
    "    \n"
   ]
  },
  {
   "cell_type": "code",
   "execution_count": 45,
   "id": "c0530b63",
   "metadata": {},
   "outputs": [],
   "source": [
    "\n",
    "bound_list = [annual_bound,forest_bound,vegetation_bound,highway_bound,industrial_bound,pasture_bound,permanentCrop_bound,residential_bound,river_bound,seaLake_bound]"
   ]
  },
  {
   "cell_type": "code",
   "execution_count": 46,
   "id": "3692c7e1",
   "metadata": {},
   "outputs": [],
   "source": [
    "cropTuple = []\n",
    "for index, item in enumerate(annual_bound):    \n",
    "        value = {\n",
    "            \"name\":cropName[index],\n",
    "            \"bound\":item,\n",
    "            \"label\" : list[0],\n",
    "            \"date\": date_year\n",
    "        }\n",
    "        cropTuple.append(value)\n",
    "\n",
    "forestTuple = []\n",
    "for index, item in enumerate(forest_bound):\n",
    "        value = {\n",
    "            \"name\":forestName[index],\n",
    "            \"bound\":item,\n",
    "            \"label\" : list[1],\n",
    "            \"date\": date_year\n",
    "        }\n",
    "        forestTuple.append(value)\n",
    "\n",
    "vegetationTuple = []\n",
    "for index, item in enumerate(vegetation_bound):\n",
    "        value = {\n",
    "            \"name\":vegetationName[index],\n",
    "            \"bound\":item,\n",
    "            \"label\" : list[2],\n",
    "            \"date\": date_year\n",
    "        }\n",
    "        vegetationTuple.append(value)\n",
    "\n",
    "highwayTuple = []\n",
    "for index, item in enumerate(highway_bound):\n",
    "        value = {\n",
    "            \"name\":highwayName[index],\n",
    "            \"bound\":item,\n",
    "            \"label\" : list[3],\n",
    "            \"date\": date_year\n",
    "        }\n",
    "        highwayTuple.append(value)\n",
    "     \n",
    "industrialTuple = []\n",
    "for index, item in enumerate(industrial_bound):\n",
    "        value = {\n",
    "            \"name\":industrialName[index],\n",
    "            \"bound\":item,\n",
    "            \"label\" : list[4],\n",
    "            \"date\": date_year\n",
    "        }\n",
    "        industrialTuple.append(value)\n",
    "        \n",
    "pastureTuple = []\n",
    "for index, item in enumerate(pasture_bound):\n",
    "        value = {\n",
    "            \"name\":pastureName[index],\n",
    "            \"bound\":item,\n",
    "            \"label\" : list[5],\n",
    "            \"date\": date_year\n",
    "        }\n",
    "        pastureTuple.append(value)\n",
    "        \n",
    "permanentCropTuple = []\n",
    "for index, item in enumerate(permanentCrop_bound):\n",
    "        value = {\n",
    "            \"name\":permanentCropName[index],\n",
    "            \"bound\":item,\n",
    "            \"label\" : list[6],\n",
    "            \"date\": date_year\n",
    "        }\n",
    "        permanentCropTuple.append(value)\n",
    " \n",
    "residentialTuple = []\n",
    "for index, item in enumerate(residential_bound):\n",
    "        value = {\n",
    "            \"name\":residentialName[index],\n",
    "            \"bound\":item,\n",
    "            \"label\" : list[7],\n",
    "            \"date\": date_year\n",
    "            \n",
    "        }\n",
    "        residentialTuple.append(value)\n",
    " \n",
    "riverTuple = []\n",
    "for index, item in enumerate(river_bound):\n",
    "        value = {\n",
    "            \"name\":riverName[index],\n",
    "            \"bound\":item,\n",
    "            \"label\" : list[8],\n",
    "            \"date\": date_year\n",
    "        }\n",
    "        riverTuple.append(value)\n",
    "\n",
    "seaLakeTuple = []\n",
    "for index, item in enumerate(seaLake_bound):\n",
    "        value = {\n",
    "            \"name\":lakeName[index],\n",
    "            \"bound\":item,\n",
    "            \"label\" : list[9],\n",
    "            \"date\": date_year\n",
    "        }\n",
    "        seaLakeTuple.append(value)        \n",
    "        \n",
    "\n",
    "\n",
    "\n"
   ]
  },
  {
   "cell_type": "code",
   "execution_count": 47,
   "id": "0a794505",
   "metadata": {},
   "outputs": [],
   "source": [
    "    \n",
    "a = json.dumps(cropTuple,indent=3)\n",
    "\n",
    "b= json.dumps(forestTuple, indent=3)\n",
    "\n",
    "c= json.dumps(vegetationTuple, indent=3)\n",
    "\n",
    "d= json.dumps(highwayTuple, indent=3)\n",
    "\n",
    "e= json.dumps(industrialTuple, indent=3)\n",
    "\n",
    "k= json.dumps(pastureTuple, indent=3)\n",
    "\n",
    "g= json.dumps(permanentCropTuple, indent=3)\n",
    "\n",
    "h= json.dumps(residentialTuple, indent=3)\n",
    "\n",
    "i= json.dumps(riverTuple, indent=3)\n",
    "\n",
    "j= json.dumps(seaLakeTuple, indent=3)\n",
    "\n",
    "\n"
   ]
  },
  {
   "cell_type": "code",
   "execution_count": 48,
   "id": "114447b8",
   "metadata": {},
   "outputs": [],
   "source": [
    "with open(\"E:\\\\Madan.json\", \"w\") as f:    \n",
    "    f.write( a + b + c + d + e + k + g + h + i + j )"
   ]
  },
  {
   "cell_type": "code",
   "execution_count": null,
   "id": "ef700f73",
   "metadata": {},
   "outputs": [],
   "source": []
  },
  {
   "cell_type": "code",
   "execution_count": null,
   "id": "c901faf7",
   "metadata": {},
   "outputs": [],
   "source": []
  }
 ],
 "metadata": {
  "kernelspec": {
   "display_name": "Python 3 (ipykernel)",
   "language": "python",
   "name": "python3"
  },
  "language_info": {
   "codemirror_mode": {
    "name": "ipython",
    "version": 3
   },
   "file_extension": ".py",
   "mimetype": "text/x-python",
   "name": "python",
   "nbconvert_exporter": "python",
   "pygments_lexer": "ipython3",
   "version": "3.9.7"
  }
 },
 "nbformat": 4,
 "nbformat_minor": 5
}
